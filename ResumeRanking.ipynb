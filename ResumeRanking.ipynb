{
  "nbformat": 4,
  "nbformat_minor": 0,
  "metadata": {
    "colab": {
      "name": "ResumeRanking.ipynb",
      "provenance": [],
      "collapsed_sections": []
    },
    "kernelspec": {
      "name": "python3",
      "display_name": "Python 3"
    },
    "language_info": {
      "name": "python"
    }
  },
  "cells": [
    {
      "cell_type": "markdown",
      "metadata": {
        "id": "n4PVZbcHOR3I"
      },
      "source": [
        "### Importing libraries "
      ]
    },
    {
      "cell_type": "code",
      "metadata": {
        "id": "i9Jg7AoKOAn2",
        "colab": {
          "base_uri": "https://localhost:8080/"
        },
        "outputId": "860a0b91-7abf-47ab-b4ab-b1996255af10"
      },
      "source": [
        "import pandas as pd\n",
        "import numpy as np\n",
        "import spacy\n",
        "import re\n",
        "import nltk\n",
        "nltk.download('stopwords')\n",
        "\n"
      ],
      "execution_count": 28,
      "outputs": [
        {
          "output_type": "stream",
          "text": [
            "[nltk_data] Downloading package stopwords to /root/nltk_data...\n",
            "[nltk_data]   Package stopwords is already up-to-date!\n"
          ],
          "name": "stdout"
        },
        {
          "output_type": "execute_result",
          "data": {
            "text/plain": [
              "True"
            ]
          },
          "metadata": {
            "tags": []
          },
          "execution_count": 28
        }
      ]
    },
    {
      "cell_type": "markdown",
      "metadata": {
        "id": "ZRTknRvuOg89"
      },
      "source": [
        "### Job Description\n",
        "\n"
      ]
    },
    {
      "cell_type": "code",
      "metadata": {
        "id": "WCEjjU1qOf5Y"
      },
      "source": [
        "job_desc = \"\"\"Responsibility Partnering with internal business owners (product, marketing, edit, etc.) to understand needs and\n",
        "             develop custom analysis to optimize for user engagement and retention Good understanding of the nderlying business and \n",
        "             workings of cross functional teams for successful execution Design and develop analyses based on business requirement needs and \n",
        "             challenges. Leveraging statistical analysis on consumer esearch and data mining projects, including segmentation,\n",
        "             clustering, factor analysis, multivariate regression, predictive modeling, etc. Providing statistical analysis on custom research\n",
        "             projects and consult on A/B testing and other statistical analysis as needed. Other reports and custom analysis as required.\n",
        "             Identify and use appropriate investigative and analytical technologies to interpret and verify results. Apply and learn a wide\n",
        "             variety of tools and languages to achieve results Use best practices to develop statistical and/ or machine learning \n",
        "             techniques to build models that address business needs. Requirements 2 - 4 years of relevant experience in Data science.\n",
        "             Preferred education: Bachelor's or master's degree in a technical field or equivalent experience. Experience in advanced analytics, model building,\n",
        "             statistical modeling, optimization, and machine learning algorithms. Machine Learning Algorithms: Crystal clear understanding,\n",
        "             coding, implementation, error analysis, model tuning knowledge on Linear Regression, Logistic Regression, SVM, \n",
        "             shallow Neural Networks, clustering, Decision Trees, Random forest, XGBoost, Recommender Systems, ARIMA and Anomaly Detection.\n",
        "             Feature selection, hyper parameters tuning, model selection and error analysis, boosting and ensemble methods. Strong with\n",
        "             programming languages like Python and data processing using SQL or equivalent and ability to experiment with newer open \n",
        "             source tools. Experience in normalizing data to ensure it is homogeneous and consistently formatted to enable sorting, \n",
        "             query and analysis. Experience designing, developing, implementing and maintaining a database and programs to manage data \n",
        "             analysis efforts. Experience with big data and cloud computing viz. Spark, Hadoop (MapReduce, PIG, HIVE). Experience in risk \n",
        "             and credit score domains preferred experience: 7-8 year , 2+ years of experience , experience 7 to 8 year .\"\"\""
      ],
      "execution_count": 29,
      "outputs": []
    },
    {
      "cell_type": "markdown",
      "metadata": {
        "id": "LgyXf57FOmOe"
      },
      "source": [
        "#### Extracting Experience"
      ]
    },
    {
      "cell_type": "markdown",
      "metadata": {
        "id": "LJYzTeXN7Rzd"
      },
      "source": [
        "Regex1 = [0-9]- [0-9] years * experience<br>\n",
        "regex2 = Experience: [0-9] to/- [0-9] years<br>\n",
        "regex3 = [0-9]+ years * experience\n"
      ]
    },
    {
      "cell_type": "code",
      "metadata": {
        "id": "lkOdDytcnUl9"
      },
      "source": [
        "def extract_experience(job_desc):\n",
        "  regex1 = r'[0-9]\\s*-\\s*[0-9]\\s*year[s]?\\s*[\\w\\s]*\\s*experience'\n",
        "  regex2 = r'experience\\s*[:]?\\s*[0-9]*\\s*[\\w]*?[-]?\\s*[0-9]*\\s*year[s]?'\n",
        "  regex3 = r'[0-9]*\\+\\s*year[s]?\\s*[\\w\\s]*\\s*experience'\n",
        "\n",
        "  regexList = [regex1, regex2, regex3]\n",
        "\n",
        "  found_regex_list = []\n",
        "\n",
        "  for x in regexList:\n",
        "      if any(re.findall(x, job_desc)):\n",
        "          some_list = re.findall(x, job_desc)     \n",
        "          found_regex_list.append(some_list)\n",
        "  exp_list = [int(char) for item in found_regex_list for i in item for char in i if char.isdigit()]\n",
        "  return min(exp_list) if len(exp_list)>0 else None\n"
      ],
      "execution_count": 30,
      "outputs": []
    },
    {
      "cell_type": "code",
      "metadata": {
        "colab": {
          "base_uri": "https://localhost:8080/"
        },
        "id": "EMlaD0bv5iuz",
        "outputId": "db55f159-b2e4-42d8-d740-e136de2aeb72"
      },
      "source": [
        "extract_experience('2+ years of experience , experience 7 to 8 year')\n"
      ],
      "execution_count": 31,
      "outputs": [
        {
          "output_type": "execute_result",
          "data": {
            "text/plain": [
              "2"
            ]
          },
          "metadata": {
            "tags": []
          },
          "execution_count": 31
        }
      ]
    },
    {
      "cell_type": "markdown",
      "metadata": {
        "id": "F-t45uWW6eDb"
      },
      "source": [
        "#### Extracting Education"
      ]
    },
    {
      "cell_type": "markdown",
      "metadata": {
        "id": "Hfip1hTR6PU8"
      },
      "source": [
        "regex1 = Bachelor or Master's degree<br>\n",
        "regex2 = Bachelor degree<br>\n",
        "regex3 = M<br>\n",
        "Bachelor's or master's degree<br>\n",
        "pattern = ((r'[\\w]*[\\'s]*\\s*degree?') or (r'[\\w]*[\\'s]*\\s*[\\w]*\\s*[\\w]*[\\'s]*\\s*degree?'))\n"
      ]
    },
    {
      "cell_type": "code",
      "metadata": {
        "id": "_LPrshUJmT1H"
      },
      "source": [
        "def extract_education(job_desc):\n",
        "  regex1 = r'[\\w]*[\\’s]*?[\\'s]*?\\s*degree?' \n",
        "  regex2 = r'[\\w]*[\\’s]*?[\\'s]*?\\s*[\\w]*\\s*[\\w]*[\\'s]*\\s*degree?'\n",
        "\n",
        "  regexList = [regex1, regex2]\n",
        "\n",
        "  found_regex_list = []\n",
        "\n",
        "  for x in regexList:\n",
        "      if any(re.findall(x, job_desc)):\n",
        "          some_list = re.findall(x, job_desc)     \n",
        "      found_regex_list.append(some_list)\n",
        "  \n",
        "\n",
        "  return set([item.strip() for sublist in found_regex_list for item in sublist])"
      ],
      "execution_count": 40,
      "outputs": []
    },
    {
      "cell_type": "markdown",
      "metadata": {
        "id": "iGFuAMsPPAtL"
      },
      "source": [
        "#### Extracting Skills"
      ]
    },
    {
      "cell_type": "code",
      "metadata": {
        "id": "8DfHAj0hPEyt",
        "colab": {
          "base_uri": "https://localhost:8080/"
        },
        "outputId": "ac7cb062-b4f4-4e67-f3a3-a64646838e15"
      },
      "source": [
        "import nltk\n",
        "import string\n",
        "nltk.download('punkt')\n",
        "# Skills database\n",
        "SKILLS = ['MaCHINE LeARning','data science','python','r','spark','sql','communication']\n",
        "SKILLS_DB = set()\n",
        "# convert skills to lower case\n",
        "\n",
        "for skills in SKILLS:\n",
        "  SKILLS_DB.add(skills.lower())\n",
        "\n",
        "def extract_skills(job_desc):\n",
        "  # Convert a string to lowercase \n",
        "  job_desc = job_desc.lower()\n",
        "\n",
        "  stop_words = set(nltk.corpus.stopwords.words('english'))\n",
        "  word_tokens = nltk.tokenize.word_tokenize(job_desc)\n",
        "  filtered_tokens = [w for w in word_tokens if w not in stop_words] \n",
        "  filtered_tokens = [w for w in filtered_tokens if w.isalpha()]\n",
        "  bigrams_trigrams = list(map(' '.join, nltk.everygrams(filtered_tokens, 2, 3)))\n",
        "  found_skills = {token for token in filtered_tokens if token.lower() in SKILLS_DB}\n",
        "  found_skills_grams = {token for token in bigrams_trigrams if token.lower() in SKILLS_DB}\n",
        "  found_skills.update(found_skills_grams)\n",
        "  return found_skills\n"
      ],
      "execution_count": 33,
      "outputs": [
        {
          "output_type": "stream",
          "text": [
            "[nltk_data] Downloading package punkt to /root/nltk_data...\n",
            "[nltk_data]   Unzipping tokenizers/punkt.zip.\n"
          ],
          "name": "stdout"
        }
      ]
    },
    {
      "cell_type": "code",
      "metadata": {
        "id": "JN5UHZdePFWB",
        "colab": {
          "base_uri": "https://localhost:8080/"
        },
        "outputId": "a400dfd6-006d-4704-f9eb-58d7a61b7f1b"
      },
      "source": [
        "if __name__ == '__main__':\n",
        "  job_desc = input()\n",
        "  job_desc = job_desc.lower()\n",
        "  skills = extract_skills(job_desc)\n",
        "  min_experience = extract_experience(job_desc)\n",
        "  education = extract_education(job_desc)\n",
        "  print(\"Skills: \",skills)\n",
        "  print(\"Education :\", education)\n",
        "  print(\"Experience:\", min_experience)"
      ],
      "execution_count": 41,
      "outputs": [
        {
          "output_type": "stream",
          "text": [
            "Responsibility Partnering with internal business owners (product, marketing, edit, etc.) to understand needs and develop custom analysis to optimize for user engagement and retention Good understanding of the nderlying business and workings of cross functional teams for successful execution Design and develop analyses based on business requirement needs and challenges. Leveraging statistical analysis on consumer esearch and data mining projects, including segmentation, clustering, factor analysis, multivariate regression, predictive modeling, etc. Providing statistical analysis on custom research projects and consult on A/B testing and other statistical analysis as needed. Other reports and custom analysis as required. Identify and use appropriate investigative and analytical technologies to interpret and verify results. Apply and learn a wide variety of tools and languages to achieve results Use best practices to develop statistical and/ or machine learning techniques to build models that address business needs. Requirements 2 - 4 years of relevant experience in Data science. Preferred education: Bachelor's degree in a technical field or equivalent experience. Experience in advanced analytics, model building, statistical modeling, optimization, and machine learning algorithms. Machine Learning Algorithms: Crystal clear understanding, coding, implementation, error analysis, model tuning knowledge on Linear Regression, Logistic Regression, SVM, shallow Neural Networks, clustering, Decision Trees, Random forest, XGBoost, Recommender Systems, ARIMA and Anomaly Detection. Feature selection, hyper parameters tuning, model selection and error analysis, boosting and ensemble methods. Strong with programming languages like Python and data processing using SQL or equivalent and ability to experiment with newer open source tools. Experience in normalizing data to ensure it is homogeneous and consistently formatted to enable sorting, query and analysis. Experience designing, developing, implementing and maintaining a database and programs to manage data analysis efforts. Experience with big data and cloud computing viz. Spark, Hadoop (MapReduce, PIG, HIVE). Experience in risk and credit score domains preferred.\n",
            "Skills:  {'sql', 'python', 'machine learning', 'spark', 'data science'}\n",
            "Education : {\"bachelor's degree\"}\n",
            "Experience: 2\n"
          ],
          "name": "stdout"
        }
      ]
    },
    {
      "cell_type": "markdown",
      "metadata": {
        "id": "7osbWsr2PGNM"
      },
      "source": [
        "#### Other Requirements"
      ]
    },
    {
      "cell_type": "code",
      "metadata": {
        "id": "AbPiorrlIcnP"
      },
      "source": [
        "job_desc = \"\"\"Do you want your software skills to contribute meaningfully into finding technology driven solutions for various businesses and alongside grow your career, then read on. Our client provides data-based process optimization and analytics solutions to businesses worldwide. Their innovative algorithms and customized IT solutions cater to complex problems related to every field or industry, through tools that are non standard and are backed-up by extensive research. They serve startups as well as large, medium and small enterprises, a majority of their clients being industry leaders. With registered offices in India, USA and UAE, their projects support various sectors and functions like logistics, IT, Retail, Ecommerce, Healthcare industry among others, across Asia, America and Europe. The founder holds a Master’s degree from IIT and a PhD in Operations Research from USA, with rich experience in Optimization and Analytics for various industries. His team of top scientists and pedagogy experts are focusing on innovative revenue generation ideas with minimum operational costs. As a Data Scientist, you will apply expertise in machine-learning, data mining and statistical methods to design, prototype, and build the next-generation analytics engines and services. What you will do: Conducting advanced statistical analysis to provide actionable insights, identify trends, and measure performance Performing data exploration, cleaning, preparation and feature engineering; in addition to executing tasks such as building a POC, validation/ AB testing Collaborating with data engineers &amp; architects to implement and deploy scalable solutions Communicating results to diverse audiences with effective writing and visualizations Identifying and executing on high impact projects, triage external requests, and ensure timely completion for the results to be useful Providing thought leadership by researching best practices, conducting experiments, and collaborating with industry leaders What you need to have: 2-4 year experience in machine learning algorithms, predictive analytics, demand forecasting in real-world projects Strong statistical background in descriptive and inferential statistics, regression, forecasting techniques. Strong Programming background in Python (including packages like Tensorflow), R, D3.js , Tableau, Spark, SQL, MongoDB. Preferred exposure to Optimization &amp; Meta-heuristic algorithm and related applications Background in a highly quantitative field like Data Science, Computer Science, Statistics, Applied Mathematics,Operations Research, Industrial Engineering, or similar fields. Should have 2-4 years of experience in Data Science algorithm design and implementation, data analysis in different applied problems. DS Mandatory skills : Python, R, SQL, Deep learning, predictive analysis, applied statistics\"\"\"\n"
      ],
      "execution_count": 183,
      "outputs": []
    },
    {
      "cell_type": "code",
      "metadata": {
        "id": "UH7rRmr8PFdy",
        "colab": {
          "base_uri": "https://localhost:8080/"
        },
        "outputId": "76b22cf3-eeba-4b34-8100-034affe037c1"
      },
      "source": [
        "  regex1 = r'[\\w]*[\\’s]*?[\\'s]*?\\s*degree?' \n",
        "  regex2 = r'[\\w]*[\\’s]*?[\\'s]*?\\s*[\\w]*\\s*[\\w]*[\\'s]*\\s*degree?'\n",
        "\n",
        "  re.findall(regex2, job_desc.lower())"
      ],
      "execution_count": 194,
      "outputs": [
        {
          "output_type": "execute_result",
          "data": {
            "text/plain": [
              "['master’s degree']"
            ]
          },
          "metadata": {
            "tags": []
          },
          "execution_count": 194
        }
      ]
    }
  ]
}